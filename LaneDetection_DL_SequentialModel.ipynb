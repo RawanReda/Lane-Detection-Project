{
  "nbformat": 4,
  "nbformat_minor": 0,
  "metadata": {
    "colab": {
      "name": "LaneDetection_DL_SequentialModel.ipynb",
      "provenance": [],
      "collapsed_sections": []
    },
    "kernelspec": {
      "display_name": "Python 3",
      "name": "python3"
    },
    "widgets": {
      "application/vnd.jupyter.widget-state+json": {
        "9a984156f683497fb043ba3e34c1826c": {
          "model_module": "@jupyter-widgets/controls",
          "model_name": "HBoxModel",
          "state": {
            "_view_name": "HBoxView",
            "_dom_classes": [],
            "_model_name": "HBoxModel",
            "_view_module": "@jupyter-widgets/controls",
            "_model_module_version": "1.5.0",
            "_view_count": null,
            "_view_module_version": "1.5.0",
            "box_style": "",
            "layout": "IPY_MODEL_cb8b24677ff44d21bf1e6886ccd8510f",
            "_model_module": "@jupyter-widgets/controls",
            "children": [
              "IPY_MODEL_7974891374804609a641bd7e231ddffa",
              "IPY_MODEL_370e3b88391f46cbb6732ddddb30a97b"
            ]
          }
        },
        "cb8b24677ff44d21bf1e6886ccd8510f": {
          "model_module": "@jupyter-widgets/base",
          "model_name": "LayoutModel",
          "state": {
            "_view_name": "LayoutView",
            "grid_template_rows": null,
            "right": null,
            "justify_content": null,
            "_view_module": "@jupyter-widgets/base",
            "overflow": null,
            "_model_module_version": "1.2.0",
            "_view_count": null,
            "flex_flow": null,
            "width": null,
            "min_width": null,
            "border": null,
            "align_items": null,
            "bottom": null,
            "_model_module": "@jupyter-widgets/base",
            "top": null,
            "grid_column": null,
            "overflow_y": null,
            "overflow_x": null,
            "grid_auto_flow": null,
            "grid_area": null,
            "grid_template_columns": null,
            "flex": null,
            "_model_name": "LayoutModel",
            "justify_items": null,
            "grid_row": null,
            "max_height": null,
            "align_content": null,
            "visibility": null,
            "align_self": null,
            "height": null,
            "min_height": null,
            "padding": null,
            "grid_auto_rows": null,
            "grid_gap": null,
            "max_width": null,
            "order": null,
            "_view_module_version": "1.2.0",
            "grid_template_areas": null,
            "object_position": null,
            "object_fit": null,
            "grid_auto_columns": null,
            "margin": null,
            "display": null,
            "left": null
          }
        },
        "7974891374804609a641bd7e231ddffa": {
          "model_module": "@jupyter-widgets/controls",
          "model_name": "FloatProgressModel",
          "state": {
            "_view_name": "ProgressView",
            "style": "IPY_MODEL_fd86beeb163041c881ab24db6ca90871",
            "_dom_classes": [],
            "description": "100%",
            "_model_name": "FloatProgressModel",
            "bar_style": "success",
            "max": 613,
            "_view_module": "@jupyter-widgets/controls",
            "_model_module_version": "1.5.0",
            "value": 613,
            "_view_count": null,
            "_view_module_version": "1.5.0",
            "orientation": "horizontal",
            "min": 0,
            "description_tooltip": null,
            "_model_module": "@jupyter-widgets/controls",
            "layout": "IPY_MODEL_afd7ce6040c5483d8cd360dc841b2932"
          }
        },
        "370e3b88391f46cbb6732ddddb30a97b": {
          "model_module": "@jupyter-widgets/controls",
          "model_name": "HTMLModel",
          "state": {
            "_view_name": "HTMLView",
            "style": "IPY_MODEL_4a4ebd1a970c4ffc8a1efc0376b69649",
            "_dom_classes": [],
            "description": "",
            "_model_name": "HTMLModel",
            "placeholder": "​",
            "_view_module": "@jupyter-widgets/controls",
            "_model_module_version": "1.5.0",
            "value": " 613/613 [00:01&lt;00:00, 415.07it/s]",
            "_view_count": null,
            "_view_module_version": "1.5.0",
            "description_tooltip": null,
            "_model_module": "@jupyter-widgets/controls",
            "layout": "IPY_MODEL_00d719d0a05342389f05e46c77563bd8"
          }
        },
        "fd86beeb163041c881ab24db6ca90871": {
          "model_module": "@jupyter-widgets/controls",
          "model_name": "ProgressStyleModel",
          "state": {
            "_view_name": "StyleView",
            "_model_name": "ProgressStyleModel",
            "description_width": "initial",
            "_view_module": "@jupyter-widgets/base",
            "_model_module_version": "1.5.0",
            "_view_count": null,
            "_view_module_version": "1.2.0",
            "bar_color": null,
            "_model_module": "@jupyter-widgets/controls"
          }
        },
        "afd7ce6040c5483d8cd360dc841b2932": {
          "model_module": "@jupyter-widgets/base",
          "model_name": "LayoutModel",
          "state": {
            "_view_name": "LayoutView",
            "grid_template_rows": null,
            "right": null,
            "justify_content": null,
            "_view_module": "@jupyter-widgets/base",
            "overflow": null,
            "_model_module_version": "1.2.0",
            "_view_count": null,
            "flex_flow": null,
            "width": null,
            "min_width": null,
            "border": null,
            "align_items": null,
            "bottom": null,
            "_model_module": "@jupyter-widgets/base",
            "top": null,
            "grid_column": null,
            "overflow_y": null,
            "overflow_x": null,
            "grid_auto_flow": null,
            "grid_area": null,
            "grid_template_columns": null,
            "flex": null,
            "_model_name": "LayoutModel",
            "justify_items": null,
            "grid_row": null,
            "max_height": null,
            "align_content": null,
            "visibility": null,
            "align_self": null,
            "height": null,
            "min_height": null,
            "padding": null,
            "grid_auto_rows": null,
            "grid_gap": null,
            "max_width": null,
            "order": null,
            "_view_module_version": "1.2.0",
            "grid_template_areas": null,
            "object_position": null,
            "object_fit": null,
            "grid_auto_columns": null,
            "margin": null,
            "display": null,
            "left": null
          }
        },
        "4a4ebd1a970c4ffc8a1efc0376b69649": {
          "model_module": "@jupyter-widgets/controls",
          "model_name": "DescriptionStyleModel",
          "state": {
            "_view_name": "StyleView",
            "_model_name": "DescriptionStyleModel",
            "description_width": "",
            "_view_module": "@jupyter-widgets/base",
            "_model_module_version": "1.5.0",
            "_view_count": null,
            "_view_module_version": "1.2.0",
            "_model_module": "@jupyter-widgets/controls"
          }
        },
        "00d719d0a05342389f05e46c77563bd8": {
          "model_module": "@jupyter-widgets/base",
          "model_name": "LayoutModel",
          "state": {
            "_view_name": "LayoutView",
            "grid_template_rows": null,
            "right": null,
            "justify_content": null,
            "_view_module": "@jupyter-widgets/base",
            "overflow": null,
            "_model_module_version": "1.2.0",
            "_view_count": null,
            "flex_flow": null,
            "width": null,
            "min_width": null,
            "border": null,
            "align_items": null,
            "bottom": null,
            "_model_module": "@jupyter-widgets/base",
            "top": null,
            "grid_column": null,
            "overflow_y": null,
            "overflow_x": null,
            "grid_auto_flow": null,
            "grid_area": null,
            "grid_template_columns": null,
            "flex": null,
            "_model_name": "LayoutModel",
            "justify_items": null,
            "grid_row": null,
            "max_height": null,
            "align_content": null,
            "visibility": null,
            "align_self": null,
            "height": null,
            "min_height": null,
            "padding": null,
            "grid_auto_rows": null,
            "grid_gap": null,
            "max_width": null,
            "order": null,
            "_view_module_version": "1.2.0",
            "grid_template_areas": null,
            "object_position": null,
            "object_fit": null,
            "grid_auto_columns": null,
            "margin": null,
            "display": null,
            "left": null
          }
        }
      }
    }
  },
  "cells": [
    {
      "cell_type": "code",
      "metadata": {
        "id": "1KSn00QOEB1Y"
      },
      "source": [
        "import numpy as np \n",
        "import os\n",
        "import cv2\n",
        "from keras.models import *\n",
        "from keras.layers import *\n",
        "from keras.optimizers import *\n",
        "from keras import backend as keras\n",
        "from sklearn.model_selection import train_test_split\n",
        "import matplotlib.pyplot as plt"
      ],
      "execution_count": null,
      "outputs": []
    },
    {
      "cell_type": "markdown",
      "metadata": {
        "id": "VvCXwvQJP34x"
      },
      "source": [
        "**Creating Model:**"
      ]
    },
    {
      "cell_type": "code",
      "metadata": {
        "id": "kpNqByK0O8OM"
      },
      "source": [
        "def create_model(input_shape, pool_size):\n",
        "    # Create the actual neural network here\n",
        "    model = Sequential()\n",
        "    # Normalizes incoming inputs. First layer needs the input shape to work\n",
        "    model.add(BatchNormalization(input_shape=input_shape))\n",
        "\n",
        "    # Below layers were re-named for easier reading of model summary; this not necessary\n",
        "    # Conv Layer 1\n",
        "    model.add(Conv2D(8, (3, 3), padding='same', strides=(1,1), activation = 'relu', name = 'Conv1'))\n",
        "\n",
        "    # Conv Layer 2\n",
        "    model.add(Conv2D(16, (3, 3), padding='same', strides=(1,1), activation = 'relu', name = 'Conv2'))\n",
        "\n",
        "    # Pooling 1\n",
        "    model.add(MaxPooling2D(pool_size=pool_size))\n",
        "\n",
        "    # Conv Layer 3\n",
        "    model.add(Conv2D(16, (3, 3), padding='same', strides=(1,1), activation = 'relu', name = 'Conv3'))\n",
        "    model.add(Dropout(0.2))\n",
        "\n",
        "    # Conv Layer 4\n",
        "    model.add(Conv2D(32, (3, 3), padding='same', strides=(1,1), activation = 'relu', name = 'Conv4'))\n",
        "    model.add(Dropout(0.2))\n",
        "\n",
        "    # Conv Layer 5\n",
        "    model.add(Conv2D(32, (3, 3), padding='same', strides=(1,1), activation = 'relu', name = 'Conv5'))\n",
        "    model.add(Dropout(0.2))\n",
        "\n",
        "    # Pooling 2\n",
        "    model.add(MaxPooling2D(pool_size=pool_size))\n",
        "\n",
        "    # Conv Layer 6\n",
        "    model.add(Conv2D(64, (3, 3), padding='same', strides=(1,1), activation = 'relu', name = 'Conv6'))\n",
        "    model.add(Dropout(0.2))\n",
        "\n",
        "    # Conv Layer 7\n",
        "    model.add(Conv2D(64, (3, 3), padding='same', strides=(1,1), activation = 'relu', name = 'Conv7'))\n",
        "    model.add(Dropout(0.2))\n",
        "\n",
        "    # Pooling 3\n",
        "    model.add(MaxPooling2D(pool_size=pool_size))\n",
        "\n",
        "    # Upsample 1\n",
        "    model.add(UpSampling2D(size=pool_size))\n",
        "\n",
        "    # Deconv 1\n",
        "    model.add(Conv2DTranspose(64, (3, 3), padding='same', strides=(1,1), activation = 'relu', name = 'Deconv1'))\n",
        "    model.add(Dropout(0.2))\n",
        "\n",
        "    # Deconv 2\n",
        "    model.add(Conv2DTranspose(64, (3, 3), padding='same', strides=(1,1), activation = 'relu', name = 'Deconv2'))\n",
        "    model.add(Dropout(0.2))\n",
        "\n",
        "    # Upsample 2\n",
        "    model.add(UpSampling2D(size=pool_size))\n",
        "\n",
        "    # Deconv 3\n",
        "    model.add(Conv2DTranspose(32, (3, 3), padding='same' , strides=(1,1), activation = 'relu', name = 'Deconv3'))\n",
        "    model.add(Dropout(0.2))\n",
        "\n",
        "    # Deconv 4\n",
        "    model.add(Conv2DTranspose(32, (3, 3), padding='same', strides=(1,1), activation = 'relu', name = 'Deconv4'))\n",
        "    model.add(Dropout(0.2))\n",
        "\n",
        "    # Deconv 5\n",
        "    model.add(Conv2DTranspose(16, (3, 3), padding='same', strides=(1,1), activation = 'relu', name = 'Deconv5'))\n",
        "    model.add(Dropout(0.2))\n",
        "\n",
        "    # Upsample 3\n",
        "    model.add(UpSampling2D(size=pool_size))\n",
        "\n",
        "    # Deconv 6\n",
        "    model.add(Conv2DTranspose(16, (3, 3), padding='same', strides=(1,1), activation = 'relu', name = 'Deconv6'))\n",
        "\n",
        "    # Final layer - only including one channel so 1 filter\n",
        "    model.add(Conv2DTranspose(1, (3, 3), padding='same', strides=(1,1), activation = 'sigmoid', name = 'Final'))\n",
        "\n",
        "    return model"
      ],
      "execution_count": null,
      "outputs": []
    },
    {
      "cell_type": "markdown",
      "metadata": {
        "id": "-4ercue5P-Ct"
      },
      "source": [
        "**Extracting frames from input video:**"
      ]
    },
    {
      "cell_type": "code",
      "metadata": {
        "id": "P-PYyX7MD0zc"
      },
      "source": [
        "def getFrames(filename):\n",
        "    video = cv2.VideoCapture(filename)\n",
        "    fps = video.get(cv2.CAP_PROP_FPS)\n",
        "    i = 0.\n",
        "    col_images = []\n",
        "    frame_times = []\n",
        "\n",
        "    while video.isOpened():\n",
        "        ret, frame = video.read()\n",
        "        if ret:\n",
        "            new_h=256\n",
        "            new_w=256\n",
        "            resize = cv2.resize(frame, (new_w, new_h),0)\n",
        "            col_images.append(resize)\n",
        "            frame_times.append(i)\n",
        "            i += 0.05\n",
        "            video.set(1, round(i * fps))\n",
        "        else:\n",
        "            video.release()\n",
        "            break\n",
        "    return col_images\n",
        "    "
      ],
      "execution_count": null,
      "outputs": []
    },
    {
      "cell_type": "code",
      "metadata": {
        "colab": {
          "base_uri": "https://localhost:8080/"
        },
        "id": "KFsOmdaED9t_",
        "outputId": "0c07a7b1-819a-4f83-c626-f05715f13eed"
      },
      "source": [
        "from google.colab import drive\n",
        "drive.mount('/content/drive')"
      ],
      "execution_count": null,
      "outputs": [
        {
          "output_type": "stream",
          "text": [
            "Drive already mounted at /content/drive; to attempt to forcibly remount, call drive.mount(\"/content/drive\", force_remount=True).\n"
          ],
          "name": "stdout"
        }
      ]
    },
    {
      "cell_type": "code",
      "metadata": {
        "id": "H84-0_QwD4_K"
      },
      "source": [
        "imgs_train = getFrames('/content/drive/MyDrive/drive3.mp4')\n",
        "# imgs_mask_train = getFrames('/content/drive/MyDrive/Vid1Output.mp4')\n",
        "imgs_mask_train = getFrames('/content/drive/MyDrive/filledPolygon.mp4')\n",
        "\n",
        "imgs_train = np.array(imgs_train)\n",
        "imgs_mask_train = np.array(imgs_mask_train)"
      ],
      "execution_count": null,
      "outputs": []
    },
    {
      "cell_type": "code",
      "metadata": {
        "colab": {
          "base_uri": "https://localhost:8080/"
        },
        "id": "F09fRmJNmSa4",
        "outputId": "5b0d9807-68f1-4c57-a365-f3397b4ea65a"
      },
      "source": [
        "imgs_mask_train.shape"
      ],
      "execution_count": null,
      "outputs": [
        {
          "output_type": "execute_result",
          "data": {
            "text/plain": [
              "(613, 256, 256, 3)"
            ]
          },
          "metadata": {
            "tags": []
          },
          "execution_count": 331
        }
      ]
    },
    {
      "cell_type": "code",
      "metadata": {
        "colab": {
          "base_uri": "https://localhost:8080/",
          "height": 281
        },
        "id": "8m7EQM3QEzJB",
        "outputId": "48af3daf-8027-42a4-b7f1-cc0317a3009f"
      },
      "source": [
        "plt.imshow(imgs_mask_train[10])\n",
        "plt.title(\"Input Image\")\n",
        "plt.show()"
      ],
      "execution_count": null,
      "outputs": [
        {
          "output_type": "display_data",
          "data": {
            "image/png": "[encoded data removed]",
            "text/plain": [
              "<Figure size 432x288 with 1 Axes>"
            ]
          },
          "metadata": {
            "tags": [],
            "needs_background": "light"
          }
        }
      ]
    },
    {
      "cell_type": "markdown",
      "metadata": {
        "id": "0UJoPh_RQUk1"
      },
      "source": [
        "**Training Data:**"
      ]
    },
    {
      "cell_type": "code",
      "metadata": {
        "id": "slgPLtpYWRDn"
      },
      "source": [
        "imgs_train = imgs_train.astype('float32')\n",
        "mean = np.mean(imgs_train)  # mean for data centering\n",
        "std = np.std(imgs_train)  # std for data normalization\n",
        "imgs_train -= mean\n",
        "imgs_train /= std"
      ],
      "execution_count": null,
      "outputs": []
    },
    {
      "cell_type": "code",
      "metadata": {
        "id": "VbwnzSUkrvwl"
      },
      "source": [
        "imgs_mask_train=np.dot(imgs_mask_train[...,:3], [0.299, 0.587, 0.114])"
      ],
      "execution_count": null,
      "outputs": []
    },
    {
      "cell_type": "code",
      "metadata": {
        "id": "nEbOMChrr94L"
      },
      "source": [
        "imgs_mask_train = imgs_mask_train.astype('float32')\n",
        "imgs_mask_train /= 255"
      ],
      "execution_count": null,
      "outputs": []
    },
    {
      "cell_type": "code",
      "metadata": {
        "colab": {
          "base_uri": "https://localhost:8080/"
        },
        "id": "eToB_uZFxELf",
        "outputId": "e1bd58af-5e54-49d4-cd9a-c200272cd530"
      },
      "source": [
        "imgs_mask_train.shape"
      ],
      "execution_count": null,
      "outputs": [
        {
          "output_type": "execute_result",
          "data": {
            "text/plain": [
              "(613, 256, 256)"
            ]
          },
          "metadata": {
            "tags": []
          },
          "execution_count": 336
        }
      ]
    },
    {
      "cell_type": "code",
      "metadata": {
        "id": "U90ly8dkV668"
      },
      "source": [
        "imgs_mask_train=imgs_mask_train.reshape(613,256, 256, 1)"
      ],
      "execution_count": null,
      "outputs": []
    },
    {
      "cell_type": "code",
      "metadata": {
        "id": "4tG-VEg0sdpU"
      },
      "source": [
        "X_train, X_val, y_train, y_val = train_test_split(imgs_train, imgs_mask_train)"
      ],
      "execution_count": null,
      "outputs": []
    },
    {
      "cell_type": "markdown",
      "metadata": {
        "id": "QEFIogSMztp0"
      },
      "source": [
        "Skip the part below if the model was already saved: "
      ]
    },
    {
      "cell_type": "code",
      "metadata": {
        "id": "Ufsd0tLoDssY",
        "colab": {
          "base_uri": "https://localhost:8080/"
        },
        "outputId": "6e043021-3fb2-4930-e7bd-716129f4fddc"
      },
      "source": [
        "X_train, X_val, y_train, y_val = train_test_split(imgs_train, imgs_mask_train)\n",
        "\n",
        "# Batch size, epochs and pool size below are all paramaters to fiddle with for optimization\n",
        "batch_size = 10\n",
        "epochs = 10\n",
        "pool_size = (2, 2)\n",
        "input_shape = X_train.shape[1:]\n",
        "\n",
        "# Create the neural network\n",
        "model = create_model(input_shape, pool_size)\n",
        "\n",
        "# Compiling and training the model\n",
        "model.compile(optimizer='Adam', loss = 'binary_crossentropy', metrics = ['accuracy'])\n",
        "model.fit(X_train, y_train, batch_size=batch_size,epochs=epochs, verbose=1,shuffle=True, validation_data=(X_val, y_val))\n",
        "\n",
        "# Save model architecture and weights\n",
        "model.save('full_CNN_model.h5')\n",
        "\n",
        "# Show summary of model\n",
        "model.summary()"
      ],
      "execution_count": null,
      "outputs": [
        {
          "output_type": "stream",
          "text": [
            "Epoch 1/10\n",
            "46/46 [==============================] - 213s 5s/step - loss: 0.3894 - accuracy: 0.8131 - val_loss: 0.1994 - val_accuracy: 0.8156\n",
            "Epoch 2/10\n",
            "46/46 [==============================] - 209s 5s/step - loss: 0.1881 - accuracy: 0.7954 - val_loss: 0.1828 - val_accuracy: 0.7595\n",
            "Epoch 3/10\n",
            "46/46 [==============================] - 217s 5s/step - loss: 0.1745 - accuracy: 0.7707 - val_loss: 0.1650 - val_accuracy: 0.7835\n",
            "Epoch 4/10\n",
            "46/46 [==============================] - 209s 5s/step - loss: 0.1596 - accuracy: 0.7871 - val_loss: 0.1537 - val_accuracy: 0.7884\n",
            "Epoch 5/10\n",
            "46/46 [==============================] - 210s 5s/step - loss: 0.1502 - accuracy: 0.7894 - val_loss: 0.1512 - val_accuracy: 0.7886\n",
            "Epoch 6/10\n",
            "46/46 [==============================] - 210s 5s/step - loss: 0.1435 - accuracy: 0.7917 - val_loss: 0.1418 - val_accuracy: 0.7912\n",
            "Epoch 7/10\n",
            "46/46 [==============================] - 211s 5s/step - loss: 0.1378 - accuracy: 0.7937 - val_loss: 0.1366 - val_accuracy: 0.7929\n",
            "Epoch 8/10\n",
            "46/46 [==============================] - 210s 5s/step - loss: 0.1328 - accuracy: 0.7947 - val_loss: 0.1350 - val_accuracy: 0.7934\n",
            "Epoch 9/10\n",
            "46/46 [==============================] - 213s 5s/step - loss: 0.1277 - accuracy: 0.7931 - val_loss: 0.1058 - val_accuracy: 0.7916\n",
            "Epoch 10/10\n",
            "46/46 [==============================] - 215s 5s/step - loss: 0.0962 - accuracy: 0.7926 - val_loss: 0.0942 - val_accuracy: 0.7925\n",
            "Model: \"sequential_1\"\n",
            "_________________________________________________________________\n",
            "Layer (type)                 Output Shape              Param #   \n",
            "=================================================================\n",
            "batch_normalization_1 (Batch (None, 256, 256, 3)       12        \n",
            "_________________________________________________________________\n",
            "Conv1 (Conv2D)               (None, 256, 256, 8)       224       \n",
            "_________________________________________________________________\n",
            "Conv2 (Conv2D)               (None, 256, 256, 16)      1168      \n",
            "_________________________________________________________________\n",
            "max_pooling2d_3 (MaxPooling2 (None, 128, 128, 16)      0         \n",
            "_________________________________________________________________\n",
            "Conv3 (Conv2D)               (None, 128, 128, 16)      2320      \n",
            "_________________________________________________________________\n",
            "dropout_10 (Dropout)         (None, 128, 128, 16)      0         \n",
            "_________________________________________________________________\n",
            "Conv4 (Conv2D)               (None, 128, 128, 32)      4640      \n",
            "_________________________________________________________________\n",
            "dropout_11 (Dropout)         (None, 128, 128, 32)      0         \n",
            "_________________________________________________________________\n",
            "Conv5 (Conv2D)               (None, 128, 128, 32)      9248      \n",
            "_________________________________________________________________\n",
            "dropout_12 (Dropout)         (None, 128, 128, 32)      0         \n",
            "_________________________________________________________________\n",
            "max_pooling2d_4 (MaxPooling2 (None, 64, 64, 32)        0         \n",
            "_________________________________________________________________\n",
            "Conv6 (Conv2D)               (None, 64, 64, 64)        18496     \n",
            "_________________________________________________________________\n",
            "dropout_13 (Dropout)         (None, 64, 64, 64)        0         \n",
            "_________________________________________________________________\n",
            "Conv7 (Conv2D)               (None, 64, 64, 64)        36928     \n",
            "_________________________________________________________________\n",
            "dropout_14 (Dropout)         (None, 64, 64, 64)        0         \n",
            "_________________________________________________________________\n",
            "max_pooling2d_5 (MaxPooling2 (None, 32, 32, 64)        0         \n",
            "_________________________________________________________________\n",
            "up_sampling2d_3 (UpSampling2 (None, 64, 64, 64)        0         \n",
            "_________________________________________________________________\n",
            "Deconv1 (Conv2DTranspose)    (None, 64, 64, 64)        36928     \n",
            "_________________________________________________________________\n",
            "dropout_15 (Dropout)         (None, 64, 64, 64)        0         \n",
            "_________________________________________________________________\n",
            "Deconv2 (Conv2DTranspose)    (None, 64, 64, 64)        36928     \n",
            "_________________________________________________________________\n",
            "dropout_16 (Dropout)         (None, 64, 64, 64)        0         \n",
            "_________________________________________________________________\n",
            "up_sampling2d_4 (UpSampling2 (None, 128, 128, 64)      0         \n",
            "_________________________________________________________________\n",
            "Deconv3 (Conv2DTranspose)    (None, 128, 128, 32)      18464     \n",
            "_________________________________________________________________\n",
            "dropout_17 (Dropout)         (None, 128, 128, 32)      0         \n",
            "_________________________________________________________________\n",
            "Deconv4 (Conv2DTranspose)    (None, 128, 128, 32)      9248      \n",
            "_________________________________________________________________\n",
            "dropout_18 (Dropout)         (None, 128, 128, 32)      0         \n",
            "_________________________________________________________________\n",
            "Deconv5 (Conv2DTranspose)    (None, 128, 128, 16)      4624      \n",
            "_________________________________________________________________\n",
            "dropout_19 (Dropout)         (None, 128, 128, 16)      0         \n",
            "_________________________________________________________________\n",
            "up_sampling2d_5 (UpSampling2 (None, 256, 256, 16)      0         \n",
            "_________________________________________________________________\n",
            "Deconv6 (Conv2DTranspose)    (None, 256, 256, 16)      2320      \n",
            "_________________________________________________________________\n",
            "Final (Conv2DTranspose)      (None, 256, 256, 1)       145       \n",
            "=================================================================\n",
            "Total params: 181,693\n",
            "Trainable params: 181,687\n",
            "Non-trainable params: 6\n",
            "_________________________________________________________________\n"
          ],
          "name": "stdout"
        }
      ]
    },
    {
      "cell_type": "code",
      "metadata": {
        "id": "HgKeaEScoiAr",
        "colab": {
          "base_uri": "https://localhost:8080/"
        },
        "outputId": "9e9cb9bf-81b1-4587-a3b0-dcf955519f96"
      },
      "source": [
        "# serialize model to JSON\n",
        "model_json = model.to_json()\n",
        "with open(\"modelf.json\", \"w\") as json_file:\n",
        "    json_file.write(model_json)\n",
        "# serialize weights to HDF5\n",
        "model.save_weights(\"modelf.h5\")\n",
        "print(\"Saved model to disk\")"
      ],
      "execution_count": null,
      "outputs": [
        {
          "output_type": "stream",
          "text": [
            "Saved model to disk\n"
          ],
          "name": "stdout"
        }
      ]
    },
    {
      "cell_type": "markdown",
      "metadata": {
        "id": "kdF9PbEYz1la"
      },
      "source": [
        "**Load model file:**"
      ]
    },
    {
      "cell_type": "code",
      "metadata": {
        "colab": {
          "base_uri": "https://localhost:8080/"
        },
        "id": "0-IHlTrfyY0m",
        "outputId": "9a673f37-e377-4fb4-ee87-b2b2480ca57c"
      },
      "source": [
        "# load json and create model\n",
        "json_file = open('modelOld.json', 'r')\n",
        "loaded_model_json = json_file.read()\n",
        "json_file.close()\n",
        "loaded_model = model_from_json(loaded_model_json)\n",
        "# load weights into new model\n",
        "loaded_model.load_weights(\"modelOld.h5\")\n",
        "print(\"Loaded model from disk\")"
      ],
      "execution_count": null,
      "outputs": [
        {
          "output_type": "stream",
          "text": [
            "Loaded model from disk\n"
          ],
          "name": "stdout"
        }
      ]
    },
    {
      "cell_type": "code",
      "metadata": {
        "id": "086C3T35yeu8"
      },
      "source": [
        "# loaded_model.trainable= False\n",
        "loaded_model.compile(optimizer='Adam', loss = 'binary_crossentropy', metrics = ['accuracy'])"
      ],
      "execution_count": null,
      "outputs": []
    },
    {
      "cell_type": "code",
      "metadata": {
        "id": "gQK7TbMCuV-g"
      },
      "source": [
        "loaded_model.summary()"
      ],
      "execution_count": null,
      "outputs": []
    },
    {
      "cell_type": "code",
      "metadata": {
        "colab": {
          "base_uri": "https://localhost:8080/"
        },
        "id": "xd1KDy4qOOvP",
        "outputId": "21d6d5e9-5f63-466b-a868-4545be032f18"
      },
      "source": [
        "imgs_test = imgs_train\n",
        "print('*'*30)\n",
        "print('Predicting masks on test data...')\n",
        "print('*'*30)\n",
        "imgs_mask_test = loaded_model.predict(imgs_test, verbose=1)"
      ],
      "execution_count": null,
      "outputs": [
        {
          "output_type": "stream",
          "text": [
            "******************************\n",
            "Predicting masks on test data...\n",
            "******************************\n",
            "20/20 [==============================] - 70s 3s/step\n"
          ],
          "name": "stdout"
        }
      ]
    },
    {
      "cell_type": "code",
      "metadata": {
        "colab": {
          "base_uri": "https://localhost:8080/",
          "height": 269
        },
        "id": "I9W8a7P9MGFG",
        "outputId": "ebede067-3a11-48db-b454-3ca93829d4b1"
      },
      "source": [
        "plt.imshow(imgs_mask_test[7][...,0])\n",
        "plt.show()"
      ],
      "execution_count": null,
      "outputs": [
        {
          "output_type": "display_data",
          "data": {
            "image/png": "[encoded data removed]",
            "text/plain": [
              "<Figure size 432x288 with 1 Axes>"
            ]
          },
          "metadata": {
            "tags": [],
            "needs_background": "light"
          }
        }
      ]
    },
    {
      "cell_type": "code",
      "metadata": {
        "colab": {
          "base_uri": "https://localhost:8080/",
          "height": 281
        },
        "id": "fMAqcCBQWrLV",
        "outputId": "2f1311dd-98c2-4e7b-a1b0-e8f27c986ef1"
      },
      "source": [
        "src2= imgs_mask_test[7][...,0]\n",
        "plt.imshow(src2)\n",
        "plt.title(\"Input Image\")\n",
        "plt.show()"
      ],
      "execution_count": null,
      "outputs": [
        {
          "output_type": "display_data",
          "data": {
            "image/png": "[encoded data removed]",
            "text/plain": [
              "<Figure size 432x288 with 1 Axes>"
            ]
          },
          "metadata": {
            "tags": [],
            "needs_background": "light"
          }
        }
      ]
    },
    {
      "cell_type": "markdown",
      "metadata": {
        "id": "vl_Z5T3TQaKN"
      },
      "source": [
        "**Creating final output video on the test set:**"
      ]
    },
    {
      "cell_type": "code",
      "metadata": {
        "id": "rgQjVwFS4DE_"
      },
      "source": [
        "# for a clearer output:\n",
        "imgs_mask_test[imgs_mask_test>0.5]=1\n",
        "imgs_mask_test[imgs_mask_test<0.5]=0"
      ],
      "execution_count": null,
      "outputs": []
    },
    {
      "cell_type": "code",
      "metadata": {
        "id": "Abtd_o07xR4w"
      },
      "source": [
        "# output shape should modified to allow for using it in addweighted cv function:\n",
        "imgs_mask_test1=np.repeat(imgs_mask_test.reshape(613,256, 256, 1), 3, axis=3)"
      ],
      "execution_count": null,
      "outputs": []
    },
    {
      "cell_type": "code",
      "metadata": {
        "id": "j_nBnlgQCLa5"
      },
      "source": [
        "pred_dir = 'pre6'\n",
        "if not os.path.exists(pred_dir):\n",
        "    os.mkdir(pred_dir)\n",
        "\n",
        "for i in range(len(imgs_mask_test)):\n",
        "    s1=imgs_test[i]*std+ mean\n",
        "    s2=imgs_mask_test1[i]*255\n",
        "    s2[np.where((s2==[255,255,255]).all(axis=2))] = [0,0,255]\n",
        "    dst = cv2.addWeighted(s1.astype(np.uint8), 1, s2.astype(np.uint8), 1, 0)\n",
        "    cv2.imwrite(os.path.join(pred_dir, str(i + 1) + '.png'), dst)"
      ],
      "execution_count": null,
      "outputs": []
    },
    {
      "cell_type": "code",
      "metadata": {
        "id": "EMmspC0RPevL"
      },
      "source": [
        "# input frames path\n",
        "pathIn= '/content/pre6/'\n",
        "\n",
        "# output path to save the video\n",
        "pathOut = 'LaneDetectionSingleLines.mp4'\n",
        "\n",
        "# specify frames per second\n",
        "fps = 20.0"
      ],
      "execution_count": null,
      "outputs": []
    },
    {
      "cell_type": "code",
      "metadata": {
        "id": "uKGqoxNkPikX"
      },
      "source": [
        "from os.path import isfile, join\n",
        "import re\n",
        "\n",
        "# get file names of the frames\n",
        "files = [f for f in os.listdir(pathIn) if isfile(join(pathIn, f))]\n",
        "files.sort(key=lambda f: int(re.sub('\\D', '', f)))"
      ],
      "execution_count": null,
      "outputs": []
    },
    {
      "cell_type": "code",
      "metadata": {
        "colab": {
          "base_uri": "https://localhost:8080/",
          "height": 66,
          "referenced_widgets": [
            "9a984156f683497fb043ba3e34c1826c",
            "cb8b24677ff44d21bf1e6886ccd8510f",
            "7974891374804609a641bd7e231ddffa",
            "370e3b88391f46cbb6732ddddb30a97b",
            "fd86beeb163041c881ab24db6ca90871",
            "afd7ce6040c5483d8cd360dc841b2932",
            "4a4ebd1a970c4ffc8a1efc0376b69649",
            "00d719d0a05342389f05e46c77563bd8"
          ]
        },
        "id": "zGwAdcfTPYmk",
        "outputId": "08aa3383-1fc9-418b-f5b4-efe542536a17"
      },
      "source": [
        "frame_list = []\n",
        "from tqdm.notebook import tqdm as tqdm_notebook\n",
        "for i in tqdm_notebook(range(len(files))):\n",
        "    filename=pathIn + files[i]\n",
        "    #reading each files\n",
        "    img = cv2.imread(filename)\n",
        "    height, width, layers = img.shape\n",
        "    size = (width,height)\n",
        "    \n",
        "    #inserting the frames into an image array\n",
        "    frame_list.append(img)"
      ],
      "execution_count": null,
      "outputs": [
        {
          "output_type": "display_data",
          "data": {
            "application/vnd.jupyter.widget-view+json": {
              "model_id": "9a984156f683497fb043ba3e34c1826c",
              "version_minor": 0,
              "version_major": 2
            },
            "text/plain": [
              "HBox(children=(FloatProgress(value=0.0, max=613.0), HTML(value='')))"
            ]
          },
          "metadata": {
            "tags": []
          }
        },
        {
          "output_type": "stream",
          "text": [
            "\n"
          ],
          "name": "stdout"
        }
      ]
    },
    {
      "cell_type": "code",
      "metadata": {
        "id": "G5khxRnQPb9W"
      },
      "source": [
        "# write the video\n",
        "out = cv2.VideoWriter(pathOut,cv2.VideoWriter_fourcc(*'DIVX'), fps, size)\n",
        "\n",
        "for i in range(len(frame_list)):\n",
        "        out.write(frame_list[i])\n",
        "\n",
        "out.release()"
      ],
      "execution_count": null,
      "outputs": []
    }
  ]
}